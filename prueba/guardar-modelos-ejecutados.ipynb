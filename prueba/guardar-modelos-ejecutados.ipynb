{
 "cells": [
  {
   "cell_type": "code",
   "execution_count": 1,
   "id": "ae623d2e",
   "metadata": {},
   "outputs": [],
   "source": [
    "\n",
    "rm -rf resultados-31-01/"
   ]
  },
  {
   "cell_type": "code",
   "execution_count": 2,
   "id": "9a1b28cf",
   "metadata": {},
   "outputs": [
    {
     "name": "stdout",
     "output_type": "stream",
     "text": [
      " Caso_de_perder_data.ipynb              exp_final_7.0.ipynb\r\n",
      "'Copia de Caso_de_perder_data..ipynb'   exp_final_8.0.ipynb\r\n",
      " \u001b[0m\u001b[01;34mDATABASE-PRIVATE\u001b[0m/                      exp_final_9.0.ipynb\r\n",
      " exp_final_10.0.ipynb                   guardar-modelos-ejecutados.ipynb\r\n",
      " exp_final_4.0.ipynb                    \u001b[01;34mprueba\u001b[0m/\r\n",
      " exp_final_5.0-Copy2.ipynb              requirements.txt\r\n",
      " exp_final_5.0.ipynb                    Resultados_final.2.0.ipynb\r\n",
      " exp_final_6.0.ipynb                    script.sh\r\n"
     ]
    }
   ],
   "source": [
    "ls\n"
   ]
  },
  {
   "cell_type": "code",
   "execution_count": 3,
   "id": "3f0323da",
   "metadata": {},
   "outputs": [
    {
     "data": {
      "text/plain": [
       "'/root/notebooks'"
      ]
     },
     "execution_count": 3,
     "metadata": {},
     "output_type": "execute_result"
    }
   ],
   "source": [
    "pwd\n"
   ]
  },
  {
   "cell_type": "code",
   "execution_count": null,
   "id": "1e74e882",
   "metadata": {},
   "outputs": [
    {
     "name": "stdout",
     "output_type": "stream",
     "text": [
      "Enter the password of your Github account: ········\n",
      "Cloning into 'resultados-31-01'...\n",
      "remote: Enumerating objects: 365, done.\u001b[K\n",
      "remote: Counting objects: 100% (99/99), done.\u001b[K\n",
      "remote: Compressing objects: 100% (72/72), done.\u001b[K\n",
      "remote: Total 365 (delta 67), reused 59 (delta 27), pack-reused 266\u001b[K\n",
      "Receiving objects: 100% (365/365), 56.42 MiB | 17.11 MiB/s, done.\n",
      "Resolving deltas:   5% (13/236)   \r"
     ]
    }
   ],
   "source": [
    "from getpass import getpass\n",
    "import os\n",
    "\n",
    "os.environ['USER'] = \"Rodrigomontenegrofarias\"\n",
    "os.environ['PASSWORD'] = getpass('Enter the password of your Github account: ')\n",
    "os.environ['REPOSITORY'] = \"resultados-31-01\"\n",
    "os.environ['GITHUB_AUTH'] = os.environ['USER'] + ':' + os.environ['PASSWORD']\n",
    "\n",
    "!rm -rf $REPOSITORY # To remove the previous clone of the Github repository\n",
    "!git clone https://$GITHUB_AUTH@github.com/$USER/$REPOSITORY.git \n",
    "\n",
    "os.environ['USER'] = os.environ['PASSWORD'] = os.environ['REPOSITORY'] = os.environ['GITHUB_AUTH'] = \"\""
   ]
  },
  {
   "cell_type": "code",
   "execution_count": null,
   "id": "aa77b151",
   "metadata": {},
   "outputs": [],
   "source": [
    "cd resultados-31-01 "
   ]
  },
  {
   "cell_type": "code",
   "execution_count": null,
   "id": "426a2844",
   "metadata": {},
   "outputs": [],
   "source": []
  },
  {
   "cell_type": "code",
   "execution_count": null,
   "id": "c7524b50",
   "metadata": {},
   "outputs": [],
   "source": [
    "ls\n"
   ]
  },
  {
   "cell_type": "code",
   "execution_count": null,
   "id": "fde8b325",
   "metadata": {},
   "outputs": [],
   "source": [
    "ls"
   ]
  },
  {
   "cell_type": "code",
   "execution_count": null,
   "id": "e2d2fbbd",
   "metadata": {},
   "outputs": [],
   "source": [
    "#mkdir prueba"
   ]
  },
  {
   "cell_type": "code",
   "execution_count": null,
   "id": "c84731bf",
   "metadata": {},
   "outputs": [],
   "source": [
    "cd prueba\n"
   ]
  },
  {
   "cell_type": "code",
   "execution_count": null,
   "id": "7fe1756b",
   "metadata": {},
   "outputs": [],
   "source": [
    "rm -rf *.ipynb"
   ]
  },
  {
   "cell_type": "code",
   "execution_count": null,
   "id": "28792b12",
   "metadata": {},
   "outputs": [],
   "source": [
    "pwd"
   ]
  },
  {
   "cell_type": "code",
   "execution_count": null,
   "id": "d87440bd",
   "metadata": {},
   "outputs": [],
   "source": []
  },
  {
   "cell_type": "code",
   "execution_count": null,
   "id": "e28820b0",
   "metadata": {},
   "outputs": [],
   "source": [
    "cp -r /root/notebooks/exp_final_1.0.ipynb  /root/notebooks/resultados-31-01/prueba "
   ]
  },
  {
   "cell_type": "code",
   "execution_count": null,
   "id": "48ff97ed",
   "metadata": {},
   "outputs": [],
   "source": [
    "cp -r /root/notebooks/exp_final_2.0.ipynb  /root/notebooks/resultados-31-01/prueba"
   ]
  },
  {
   "cell_type": "code",
   "execution_count": null,
   "id": "c419b4d0",
   "metadata": {},
   "outputs": [],
   "source": [
    "cp -r /root/notebooks/exp_final_3.0.ipynb  /root/notebooks/resultados-31-01/prueba"
   ]
  },
  {
   "cell_type": "code",
   "execution_count": null,
   "id": "c92b26da",
   "metadata": {},
   "outputs": [],
   "source": [
    "cp -r /root/notebooks/exp_final_4.0.ipynb  /root/notebooks/resultados-31-01/prueba"
   ]
  },
  {
   "cell_type": "code",
   "execution_count": null,
   "id": "585dd52a",
   "metadata": {},
   "outputs": [],
   "source": [
    "cp -r /root/notebooks/exp_final_5.0.ipynb  /root/notebooks/resultados-31-01/prueba"
   ]
  },
  {
   "cell_type": "code",
   "execution_count": null,
   "id": "461060de",
   "metadata": {},
   "outputs": [],
   "source": [
    "cp -r /root/notebooks/exp_final_6.0.ipynb  /root/notebooks/resultados-31-01/prueba"
   ]
  },
  {
   "cell_type": "code",
   "execution_count": null,
   "id": "4fe0688e",
   "metadata": {},
   "outputs": [],
   "source": [
    "cp -r /root/notebooks/exp_final_7.0.ipynb  /root/notebooks/resultados-31-01/prueba"
   ]
  },
  {
   "cell_type": "code",
   "execution_count": null,
   "id": "98561cd2",
   "metadata": {},
   "outputs": [],
   "source": [
    "cp -r /root/notebooks/exp_final_8.0.ipynb  /root/notebooks/resultados-31-01/prueba"
   ]
  },
  {
   "cell_type": "code",
   "execution_count": null,
   "id": "3c3157f0",
   "metadata": {},
   "outputs": [],
   "source": [
    "cp -r /root/notebooks/exp_final_9.0.ipynb  /root/notebooks/resultados-31-01/prueba"
   ]
  },
  {
   "cell_type": "code",
   "execution_count": null,
   "id": "586269e4",
   "metadata": {},
   "outputs": [],
   "source": [
    "cp -r /root/notebooks/exp_final_10.0.ipynb  /root/notebooks/resultados-31-01/prueba"
   ]
  },
  {
   "cell_type": "code",
   "execution_count": null,
   "id": "8d95b829",
   "metadata": {},
   "outputs": [],
   "source": [
    "cp -r /root/notebooks/Resultados_final.2.0.ipynb  /root/notebooks/resultados-31-01/prueba"
   ]
  },
  {
   "cell_type": "code",
   "execution_count": null,
   "id": "61a9ad06",
   "metadata": {},
   "outputs": [],
   "source": [
    "cp -r /root/notebooks/guardar-modelos-ejecutados.ipynb  /root/notebooks/resultados-31-01/prueba"
   ]
  },
  {
   "cell_type": "code",
   "execution_count": null,
   "id": "f5fc325c",
   "metadata": {},
   "outputs": [],
   "source": [
    "cp -r /root/notebooks/Caso_de_perder_data.ipynb  /root/notebooks/resultados-31-01/prueba"
   ]
  },
  {
   "cell_type": "code",
   "execution_count": null,
   "id": "e78b0b76",
   "metadata": {},
   "outputs": [],
   "source": [
    "#cp -r /root/notebooks/exp-7.ipynb  /root/notebooks/result/prueba "
   ]
  },
  {
   "cell_type": "code",
   "execution_count": null,
   "id": "d076db0c",
   "metadata": {},
   "outputs": [],
   "source": [
    "#cp -r /root/notebooks/exp-8.ipynb  /root/notebooks/result/prueba "
   ]
  },
  {
   "cell_type": "code",
   "execution_count": null,
   "id": "b725808e",
   "metadata": {},
   "outputs": [],
   "source": [
    "#cp -r /root/notebooks/exp-9.ipynb  /root/notebooks/result/prueba "
   ]
  },
  {
   "cell_type": "code",
   "execution_count": null,
   "id": "72d562b2",
   "metadata": {},
   "outputs": [],
   "source": [
    "#cp -r /root/notebooks/exp-10.ipynb  /root/notebooks/result/prueba "
   ]
  },
  {
   "cell_type": "code",
   "execution_count": null,
   "id": "5f4a4e4b",
   "metadata": {},
   "outputs": [],
   "source": []
  },
  {
   "cell_type": "code",
   "execution_count": null,
   "id": "cbdaa732",
   "metadata": {},
   "outputs": [],
   "source": [
    "ls"
   ]
  },
  {
   "cell_type": "code",
   "execution_count": null,
   "id": "90b40cf9",
   "metadata": {},
   "outputs": [],
   "source": [
    "!git add ."
   ]
  },
  {
   "cell_type": "code",
   "execution_count": null,
   "id": "d113eac5",
   "metadata": {},
   "outputs": [],
   "source": [
    "!git config user.email \"rodrigo.montenegro@alumnos.uv.cl\"\n",
    "\n",
    "!git config user.name \"Rodrigomontenegrofarias\""
   ]
  },
  {
   "cell_type": "markdown",
   "id": "fb790f92",
   "metadata": {},
   "source": [
    "##### "
   ]
  },
  {
   "cell_type": "code",
   "execution_count": null,
   "id": "cdf6966f",
   "metadata": {},
   "outputs": [],
   "source": [
    "!git commit -m 'commit message'  # commit in Colab"
   ]
  },
  {
   "cell_type": "code",
   "execution_count": null,
   "id": "ea14c70c",
   "metadata": {},
   "outputs": [],
   "source": [
    "!git push origin main       # push to github"
   ]
  },
  {
   "cell_type": "code",
   "execution_count": null,
   "id": "ce8724e8",
   "metadata": {},
   "outputs": [],
   "source": []
  },
  {
   "cell_type": "code",
   "execution_count": null,
   "id": "abc9f3bb",
   "metadata": {},
   "outputs": [],
   "source": []
  },
  {
   "cell_type": "code",
   "execution_count": null,
   "id": "47623b46",
   "metadata": {},
   "outputs": [],
   "source": []
  }
 ],
 "metadata": {
  "kernelspec": {
   "display_name": "Python 3",
   "language": "python",
   "name": "python3"
  },
  "language_info": {
   "codemirror_mode": {
    "name": "ipython",
    "version": 3
   },
   "file_extension": ".py",
   "mimetype": "text/x-python",
   "name": "python",
   "nbconvert_exporter": "python",
   "pygments_lexer": "ipython3",
   "version": "3.6.9"
  }
 },
 "nbformat": 4,
 "nbformat_minor": 5
}
