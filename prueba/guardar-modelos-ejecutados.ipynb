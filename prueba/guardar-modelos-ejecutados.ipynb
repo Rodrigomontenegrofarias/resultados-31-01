{
 "cells": [
  {
   "cell_type": "code",
   "execution_count": 1,
   "id": "61e28d9d",
   "metadata": {},
   "outputs": [
    {
     "name": "stdout",
     "output_type": "stream",
     "text": [
      "/root/notebooks\n"
     ]
    }
   ],
   "source": [
    "cd /root/notebooks"
   ]
  },
  {
   "cell_type": "code",
   "execution_count": 2,
   "id": "ae623d2e",
   "metadata": {},
   "outputs": [],
   "source": [
    "\n",
    "rm -rf resultados-31-01/ "
   ]
  },
  {
   "cell_type": "code",
   "execution_count": 3,
   "id": "9a1b28cf",
   "metadata": {},
   "outputs": [
    {
     "name": "stdout",
     "output_type": "stream",
     "text": [
      "Caso_de_perder_data.ipynb         exp_final_8.0.ipynb\r\n",
      "\u001b[0m\u001b[01;34mDATABASE-PRIVATE\u001b[0m/                 exp_final_9.0.ipynb\r\n",
      "Datos_Combarbala_2016-2017JM.csv  \u001b[01;34mGif-Rocio-Combarbala\u001b[0m/\r\n",
      "datos-SSH-Keys.ipynb              guardar-modelos-ejecutados.ipynb\r\n",
      "exp_final_10.0.ipynb              Presentacion_Rodrigo_Montenegro_ultimo.ipynb\r\n",
      "exp_final_6.0.ipynb               requirements.txt\r\n",
      "exp_final_7.0.ipynb               Resultados_final.2.0.ipynb\r\n"
     ]
    }
   ],
   "source": [
    "ls\n"
   ]
  },
  {
   "cell_type": "code",
   "execution_count": 4,
   "id": "3f0323da",
   "metadata": {},
   "outputs": [
    {
     "data": {
      "text/plain": [
       "'/root/notebooks'"
      ]
     },
     "execution_count": 4,
     "metadata": {},
     "output_type": "execute_result"
    }
   ],
   "source": [
    "pwd\n"
   ]
  },
  {
   "cell_type": "code",
   "execution_count": 5,
   "id": "37afcfa4",
   "metadata": {},
   "outputs": [
    {
     "data": {
      "text/plain": [
       "'/root/notebooks'"
      ]
     },
     "execution_count": 5,
     "metadata": {},
     "output_type": "execute_result"
    }
   ],
   "source": [
    "pwd"
   ]
  },
  {
   "cell_type": "code",
   "execution_count": 6,
   "id": "38c03178",
   "metadata": {},
   "outputs": [
    {
     "name": "stdout",
     "output_type": "stream",
     "text": [
      "Cloning into 'resultados-31-01'...\n",
      "remote: Enumerating objects: 1153, done.\u001b[K\n",
      "remote: Counting objects: 100% (230/230), done.\u001b[K\n",
      "remote: Compressing objects: 100% (94/94), done.\u001b[K\n",
      "remote: Total 1153 (delta 154), reused 211 (delta 136), pack-reused 923\u001b[K\n",
      "Receiving objects: 100% (1153/1153), 180.82 MiB | 14.14 MiB/s, done.\n",
      "Resolving deltas: 100% (787/787), done.\n"
     ]
    }
   ],
   "source": [
    "!git clone git@github.com:Rodrigomontenegrofarias/resultados-31-01.git"
   ]
  },
  {
   "cell_type": "code",
   "execution_count": 7,
   "id": "1e74e882",
   "metadata": {},
   "outputs": [
    {
     "data": {
      "text/plain": [
       "'/root/notebooks'"
      ]
     },
     "execution_count": 7,
     "metadata": {},
     "output_type": "execute_result"
    }
   ],
   "source": [
    "pwd"
   ]
  },
  {
   "cell_type": "code",
   "execution_count": 8,
   "id": "aa77b151",
   "metadata": {},
   "outputs": [
    {
     "name": "stdout",
     "output_type": "stream",
     "text": [
      "/root/notebooks/resultados-31-01\n"
     ]
    }
   ],
   "source": [
    "cd resultados-31-01\n"
   ]
  },
  {
   "cell_type": "code",
   "execution_count": null,
   "id": "426a2844",
   "metadata": {},
   "outputs": [],
   "source": []
  },
  {
   "cell_type": "code",
   "execution_count": 9,
   "id": "c7524b50",
   "metadata": {},
   "outputs": [
    {
     "name": "stdout",
     "output_type": "stream",
     "text": [
      "datos-SSH-Keys.ipynb              Prueba1.0.csv  Prueba5.0.csv  Prueba9.0.csv\r\n",
      "guardar-modelos-ejecutados.ipynb  Prueba2.0.csv  Prueba6.0.csv  prueba.csv\r\n",
      "\u001b[0m\u001b[01;34mprueba\u001b[0m/                           Prueba3.0.csv  Prueba7.0.csv  README.md\r\n",
      "Prueba10.0.csv                    Prueba4.0.csv  Prueba8.0.csv\r\n"
     ]
    }
   ],
   "source": [
    "ls\n"
   ]
  },
  {
   "cell_type": "code",
   "execution_count": 10,
   "id": "fde8b325",
   "metadata": {},
   "outputs": [
    {
     "name": "stdout",
     "output_type": "stream",
     "text": [
      "/root/notebooks/resultados-31-01/prueba\n"
     ]
    }
   ],
   "source": [
    "cd prueba"
   ]
  },
  {
   "cell_type": "code",
   "execution_count": 11,
   "id": "6dd91b8c",
   "metadata": {},
   "outputs": [
    {
     "name": "stdout",
     "output_type": "stream",
     "text": [
      "/root/notebooks/resultados-31-01\n"
     ]
    }
   ],
   "source": [
    "cd .."
   ]
  },
  {
   "cell_type": "code",
   "execution_count": 12,
   "id": "28792b12",
   "metadata": {},
   "outputs": [
    {
     "data": {
      "text/plain": [
       "'/root/notebooks/resultados-31-01'"
      ]
     },
     "execution_count": 12,
     "metadata": {},
     "output_type": "execute_result"
    }
   ],
   "source": [
    "pwd"
   ]
  },
  {
   "cell_type": "code",
   "execution_count": 13,
   "id": "07a72288",
   "metadata": {},
   "outputs": [
    {
     "name": "stdout",
     "output_type": "stream",
     "text": [
      "mkdir: cannot create directory ‘/resultados’: File exists\r\n"
     ]
    }
   ],
   "source": [
    "mkdir /resultados"
   ]
  },
  {
   "cell_type": "code",
   "execution_count": 14,
   "id": "d87440bd",
   "metadata": {},
   "outputs": [
    {
     "name": "stdout",
     "output_type": "stream",
     "text": [
      "total 100\r\n",
      "drwxr-xr-x 4 root root  4096 Nov 11 23:10 \u001b[0m\u001b[01;34m.\u001b[0m/\r\n",
      "drwxr-xr-x 1 root root  4096 Nov 11 23:10 \u001b[01;34m..\u001b[0m/\r\n",
      "-rw-r--r-- 1 root root  9062 Nov 11 23:10 datos-SSH-Keys.ipynb\r\n",
      "drwxr-xr-x 8 root root  4096 Nov 11 23:10 \u001b[01;34m.git\u001b[0m/\r\n",
      "-rw-r--r-- 1 root root  9497 Nov 11 23:10 guardar-modelos-ejecutados.ipynb\r\n",
      "drwxr-xr-x 3 root root  4096 Nov 11 23:10 \u001b[01;34mprueba\u001b[0m/\r\n",
      "-rw-r--r-- 1 root root  2011 Nov 11 23:10 Prueba10.0.csv\r\n",
      "-rw-r--r-- 1 root root  2022 Nov 11 23:10 Prueba1.0.csv\r\n",
      "-rw-r--r-- 1 root root  2025 Nov 11 23:10 Prueba2.0.csv\r\n",
      "-rw-r--r-- 1 root root  2028 Nov 11 23:10 Prueba3.0.csv\r\n",
      "-rw-r--r-- 1 root root  2023 Nov 11 23:10 Prueba4.0.csv\r\n",
      "-rw-r--r-- 1 root root  2020 Nov 11 23:10 Prueba5.0.csv\r\n",
      "-rw-r--r-- 1 root root  2012 Nov 11 23:10 Prueba6.0.csv\r\n",
      "-rw-r--r-- 1 root root  2022 Nov 11 23:10 Prueba7.0.csv\r\n",
      "-rw-r--r-- 1 root root  2016 Nov 11 23:10 Prueba8.0.csv\r\n",
      "-rw-r--r-- 1 root root  2018 Nov 11 23:10 Prueba9.0.csv\r\n",
      "-rw-r--r-- 1 root root 10693 Nov 11 23:10 prueba.csv\r\n",
      "-rw-r--r-- 1 root root    19 Nov 11 23:10 README.md\r\n"
     ]
    }
   ],
   "source": [
    "ls -la"
   ]
  },
  {
   "cell_type": "code",
   "execution_count": null,
   "id": "57481f15",
   "metadata": {},
   "outputs": [],
   "source": []
  },
  {
   "cell_type": "code",
   "execution_count": 15,
   "id": "e28820b0",
   "metadata": {},
   "outputs": [
    {
     "name": "stdout",
     "output_type": "stream",
     "text": [
      "cp: cannot stat '/root/notebooks/exp_final_1.0.ipynb': No such file or directory\r\n"
     ]
    }
   ],
   "source": [
    "cp -r /root/notebooks/exp_final_1.0.ipynb  /root/notebooks/resultados-31-01/prueba/"
   ]
  },
  {
   "cell_type": "code",
   "execution_count": 16,
   "id": "a347bd0a",
   "metadata": {},
   "outputs": [
    {
     "name": "stdout",
     "output_type": "stream",
     "text": [
      "cp: cannot stat '/root/notebooks/exp_final_2.0.ipynb': No such file or directory\r\n"
     ]
    }
   ],
   "source": [
    "cp -r /root/notebooks/exp_final_2.0.ipynb  /root/notebooks/resultados-31-01/prueba/"
   ]
  },
  {
   "cell_type": "code",
   "execution_count": 17,
   "id": "5e1944da",
   "metadata": {},
   "outputs": [
    {
     "name": "stdout",
     "output_type": "stream",
     "text": [
      "cp: cannot stat '/root/notebooks/exp_final_3.0.ipynb': No such file or directory\r\n"
     ]
    }
   ],
   "source": [
    "cp -r /root/notebooks/exp_final_3.0.ipynb  /root/notebooks/resultados-31-01/prueba/"
   ]
  },
  {
   "cell_type": "code",
   "execution_count": 18,
   "id": "fe991e77",
   "metadata": {},
   "outputs": [
    {
     "name": "stdout",
     "output_type": "stream",
     "text": [
      "cp: cannot stat '/root/notebooks/exp_final_4.0.ipynb': No such file or directory\r\n"
     ]
    }
   ],
   "source": [
    "cp -r /root/notebooks/exp_final_4.0.ipynb  /root/notebooks/resultados-31-01/prueba/"
   ]
  },
  {
   "cell_type": "code",
   "execution_count": 19,
   "id": "1d303997",
   "metadata": {},
   "outputs": [
    {
     "name": "stdout",
     "output_type": "stream",
     "text": [
      "cp: cannot stat '/root/notebooks/exp_final_5.0.ipynb': No such file or directory\r\n"
     ]
    }
   ],
   "source": [
    "cp -r /root/notebooks/exp_final_5.0.ipynb  /root/notebooks/resultados-31-01/prueba/"
   ]
  },
  {
   "cell_type": "code",
   "execution_count": 20,
   "id": "847cb941",
   "metadata": {},
   "outputs": [],
   "source": [
    "cp -r /root/notebooks/exp_final_6.0.ipynb  /root/notebooks/resultados-31-01/prueba/"
   ]
  },
  {
   "cell_type": "code",
   "execution_count": 21,
   "id": "af526080",
   "metadata": {},
   "outputs": [],
   "source": [
    "cp -r /root/notebooks/exp_final_7.0.ipynb  /root/notebooks/resultados-31-01/prueba/"
   ]
  },
  {
   "cell_type": "code",
   "execution_count": 22,
   "id": "aa16ab29",
   "metadata": {},
   "outputs": [],
   "source": [
    "cp -r /root/notebooks/exp_final_8.0.ipynb  /root/notebooks/resultados-31-01/prueba/"
   ]
  },
  {
   "cell_type": "code",
   "execution_count": 23,
   "id": "1e658259",
   "metadata": {},
   "outputs": [],
   "source": [
    "cp -r /root/notebooks/exp_final_9.0.ipynb  /root/notebooks/resultados-31-01/prueba/"
   ]
  },
  {
   "cell_type": "code",
   "execution_count": 24,
   "id": "8cee795c",
   "metadata": {},
   "outputs": [],
   "source": [
    "cp -r /root/notebooks/exp_final_10.0.ipynb  /root/notebooks/resultados-31-01/prueba/"
   ]
  },
  {
   "cell_type": "code",
   "execution_count": 25,
   "id": "4a53a7e5",
   "metadata": {},
   "outputs": [
    {
     "data": {
      "text/plain": [
       "'/root/notebooks/resultados-31-01'"
      ]
     },
     "execution_count": 25,
     "metadata": {},
     "output_type": "execute_result"
    }
   ],
   "source": [
    "pwd"
   ]
  },
  {
   "cell_type": "code",
   "execution_count": 26,
   "id": "09fc3520",
   "metadata": {},
   "outputs": [],
   "source": [
    "cp -r /root/notebooks/Resultados_final.2.0.ipynb  /root/notebooks/resultados-31-01/prueba/"
   ]
  },
  {
   "cell_type": "code",
   "execution_count": 27,
   "id": "e81acfd8",
   "metadata": {},
   "outputs": [],
   "source": [
    "cp -r /root/notebooks/Caso_de_perder_data.ipynb  /root/notebooks/resultados-31-01/prueba/"
   ]
  },
  {
   "cell_type": "code",
   "execution_count": 28,
   "id": "6c9f6e0d",
   "metadata": {},
   "outputs": [],
   "source": [
    "cp -r /root/notebooks/guardar-modelos-ejecutados.ipynb  /root/notebooks/resultados-31-01/prueba/"
   ]
  },
  {
   "cell_type": "code",
   "execution_count": 29,
   "id": "e78b0b76",
   "metadata": {},
   "outputs": [],
   "source": [
    "#cp -r /root/notebooks/exp-7.ipynb  /root/notebooks/result/prueba "
   ]
  },
  {
   "cell_type": "code",
   "execution_count": null,
   "id": "5933dd9c",
   "metadata": {},
   "outputs": [],
   "source": []
  },
  {
   "cell_type": "code",
   "execution_count": null,
   "id": "a55b1b32",
   "metadata": {},
   "outputs": [],
   "source": []
  },
  {
   "cell_type": "code",
   "execution_count": null,
   "id": "97a8cc12",
   "metadata": {},
   "outputs": [],
   "source": []
  },
  {
   "cell_type": "code",
   "execution_count": null,
   "id": "dc2faca8",
   "metadata": {},
   "outputs": [],
   "source": []
  },
  {
   "cell_type": "code",
   "execution_count": null,
   "id": "91664b85",
   "metadata": {},
   "outputs": [],
   "source": []
  },
  {
   "cell_type": "code",
   "execution_count": null,
   "id": "cb627d85",
   "metadata": {},
   "outputs": [],
   "source": []
  },
  {
   "cell_type": "code",
   "execution_count": 30,
   "id": "d076db0c",
   "metadata": {},
   "outputs": [],
   "source": [
    "#cp -r /root/notebooks/exp-8.ipynb  /root/notebooks/result/prueba "
   ]
  },
  {
   "cell_type": "code",
   "execution_count": 31,
   "id": "b725808e",
   "metadata": {},
   "outputs": [],
   "source": [
    "#cp -r /root/notebooks/exp-9.ipynb  /root/notebooks/result/prueba "
   ]
  },
  {
   "cell_type": "code",
   "execution_count": 32,
   "id": "72d562b2",
   "metadata": {},
   "outputs": [],
   "source": [
    "#cp -r /root/notebooks/exp-10.ipynb  /root/notebooks/result/prueba "
   ]
  },
  {
   "cell_type": "code",
   "execution_count": 33,
   "id": "cbdaa732",
   "metadata": {},
   "outputs": [
    {
     "name": "stdout",
     "output_type": "stream",
     "text": [
      "datos-SSH-Keys.ipynb              Prueba1.0.csv  Prueba5.0.csv  Prueba9.0.csv\r\n",
      "guardar-modelos-ejecutados.ipynb  Prueba2.0.csv  Prueba6.0.csv  prueba.csv\r\n",
      "\u001b[0m\u001b[01;34mprueba\u001b[0m/                           Prueba3.0.csv  Prueba7.0.csv  README.md\r\n",
      "Prueba10.0.csv                    Prueba4.0.csv  Prueba8.0.csv\r\n"
     ]
    }
   ],
   "source": [
    "ls"
   ]
  },
  {
   "cell_type": "code",
   "execution_count": 34,
   "id": "90b40cf9",
   "metadata": {},
   "outputs": [],
   "source": [
    "!git add ."
   ]
  },
  {
   "cell_type": "code",
   "execution_count": 35,
   "id": "d113eac5",
   "metadata": {},
   "outputs": [],
   "source": [
    "!git config user.email \"rodrigo.montenegro@alumnos.uv.cl\"\n",
    "\n",
    "!git config user.name \"Rodrigomontenegrofarias\""
   ]
  },
  {
   "cell_type": "markdown",
   "id": "fb790f92",
   "metadata": {},
   "source": [
    "##### "
   ]
  },
  {
   "cell_type": "code",
   "execution_count": 36,
   "id": "cdf6966f",
   "metadata": {},
   "outputs": [
    {
     "name": "stdout",
     "output_type": "stream",
     "text": [
      "[main 2c7f01a] commit message\n",
      " 3 files changed, 62803 insertions(+), 68309 deletions(-)\n"
     ]
    }
   ],
   "source": [
    "!git commit -m 'commit message'  # commit in Colab"
   ]
  },
  {
   "cell_type": "code",
   "execution_count": 37,
   "id": "ea14c70c",
   "metadata": {},
   "outputs": [
    {
     "name": "stdout",
     "output_type": "stream",
     "text": [
      "Counting objects: 6, done.\n",
      "Delta compression using up to 2 threads.\n",
      "Compressing objects: 100% (6/6), done.\n",
      "Writing objects: 100% (6/6), 2.64 MiB | 1.16 MiB/s, done.\n",
      "Total 6 (delta 5), reused 0 (delta 0)\n",
      "remote: Resolving deltas: 100% (5/5), completed with 4 local objects.\u001b[K\n",
      "To github.com:Rodrigomontenegrofarias/resultados-31-01.git\n",
      "   734571f..2c7f01a  main -> main\n"
     ]
    }
   ],
   "source": [
    "!git push origin main       # push to github"
   ]
  },
  {
   "cell_type": "code",
   "execution_count": null,
   "id": "ce8724e8",
   "metadata": {},
   "outputs": [],
   "source": []
  },
  {
   "cell_type": "code",
   "execution_count": null,
   "id": "abc9f3bb",
   "metadata": {},
   "outputs": [],
   "source": []
  },
  {
   "cell_type": "code",
   "execution_count": null,
   "id": "47623b46",
   "metadata": {},
   "outputs": [],
   "source": []
  },
  {
   "cell_type": "code",
   "execution_count": null,
   "id": "708d7ab8",
   "metadata": {},
   "outputs": [],
   "source": []
  },
  {
   "cell_type": "code",
   "execution_count": null,
   "id": "956fad2d",
   "metadata": {},
   "outputs": [],
   "source": []
  }
 ],
 "metadata": {
  "kernelspec": {
   "display_name": "Python 3",
   "language": "python",
   "name": "python3"
  },
  "language_info": {
   "codemirror_mode": {
    "name": "ipython",
    "version": 3
   },
   "file_extension": ".py",
   "mimetype": "text/x-python",
   "name": "python",
   "nbconvert_exporter": "python",
   "pygments_lexer": "ipython3",
   "version": "3.6.9"
  }
 },
 "nbformat": 4,
 "nbformat_minor": 5
}
