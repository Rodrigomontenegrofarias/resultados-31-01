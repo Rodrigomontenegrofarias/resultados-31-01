{
 "cells": [
  {
   "cell_type": "code",
   "execution_count": 1,
   "id": "ae623d2e",
   "metadata": {},
   "outputs": [],
   "source": [
    "\n",
    "rm -rf resultados-31-01/ "
   ]
  },
  {
   "cell_type": "code",
   "execution_count": 2,
   "id": "9a1b28cf",
   "metadata": {},
   "outputs": [
    {
     "name": "stdout",
     "output_type": "stream",
     "text": [
      " Caso_de_perder_data.ipynb              exp_final_6.0.ipynb\r\n",
      "'Copia de Caso_de_perder_data..ipynb'   exp_final_7.0.ipynb\r\n",
      " \u001b[0m\u001b[01;34mDATABASE-PRIVATE\u001b[0m/                      exp_final_8.0.ipynb\r\n",
      " exp_final_10.0.ipynb                   exp_final_9.0.ipynb\r\n",
      " exp_final_1.0.ipynb                    guardar-modelos-ejecutados.ipynb\r\n",
      " exp_final_2.0.ipynb                    requirements.txt\r\n",
      " exp_final_3.0.ipynb                    Resultados_final.2.0.ipynb\r\n",
      " exp_final_4.0.ipynb                    script.sh\r\n",
      " exp_final_5.0.ipynb\r\n"
     ]
    }
   ],
   "source": [
    "ls\n"
   ]
  },
  {
   "cell_type": "code",
   "execution_count": 3,
   "id": "3f0323da",
   "metadata": {},
   "outputs": [
    {
     "data": {
      "text/plain": [
       "'/root/notebooks'"
      ]
     },
     "execution_count": 3,
     "metadata": {},
     "output_type": "execute_result"
    }
   ],
   "source": [
    "pwd\n"
   ]
  },
  {
   "cell_type": "code",
   "execution_count": 4,
   "id": "38c03178",
   "metadata": {},
   "outputs": [
    {
     "name": "stdout",
     "output_type": "stream",
     "text": [
      "Cloning into 'resultados-31-01'...\n",
      "remote: Enumerating objects: 682, done.\u001b[K\n",
      "remote: Counting objects: 100% (101/101), done.\u001b[K\n",
      "remote: Compressing objects: 100% (41/41), done.\u001b[K\n",
      "remote: Total 682 (delta 70), reused 90 (delta 60), pack-reused 581\u001b[K\n",
      "Receiving objects: 100% (682/682), 112.74 MiB | 15.89 MiB/s, done.\n",
      "Resolving deltas: 100% (466/466), done.\n"
     ]
    }
   ],
   "source": [
    "!git clone git@github.com:Rodrigomontenegrofarias/resultados-31-01.git"
   ]
  },
  {
   "cell_type": "code",
   "execution_count": null,
   "id": "1e74e882",
   "metadata": {},
   "outputs": [],
   "source": []
  },
  {
   "cell_type": "code",
   "execution_count": 5,
   "id": "aa77b151",
   "metadata": {},
   "outputs": [
    {
     "name": "stdout",
     "output_type": "stream",
     "text": [
      "/root/notebooks/resultados-31-01\n"
     ]
    }
   ],
   "source": [
    "cd resultados-31-01 "
   ]
  },
  {
   "cell_type": "code",
   "execution_count": null,
   "id": "426a2844",
   "metadata": {},
   "outputs": [],
   "source": []
  },
  {
   "cell_type": "code",
   "execution_count": 6,
   "id": "c7524b50",
   "metadata": {},
   "outputs": [
    {
     "name": "stdout",
     "output_type": "stream",
     "text": [
      "\u001b[0m\u001b[01;34mprueba\u001b[0m/         Prueba2.0.csv  Prueba5.0.csv  Prueba8.0.csv  README.md\r\n",
      "Prueba10.0.csv  Prueba3.0.csv  Prueba6.0.csv  Prueba9.0.csv\r\n",
      "Prueba1.0.csv   Prueba4.0.csv  Prueba7.0.csv  prueba.csv\r\n"
     ]
    }
   ],
   "source": [
    "ls\n"
   ]
  },
  {
   "cell_type": "code",
   "execution_count": 7,
   "id": "fde8b325",
   "metadata": {},
   "outputs": [
    {
     "name": "stdout",
     "output_type": "stream",
     "text": [
      "\u001b[0m\u001b[01;34mprueba\u001b[0m/         Prueba2.0.csv  Prueba5.0.csv  Prueba8.0.csv  README.md\r\n",
      "Prueba10.0.csv  Prueba3.0.csv  Prueba6.0.csv  Prueba9.0.csv\r\n",
      "Prueba1.0.csv   Prueba4.0.csv  Prueba7.0.csv  prueba.csv\r\n"
     ]
    }
   ],
   "source": [
    "ls"
   ]
  },
  {
   "cell_type": "code",
   "execution_count": 8,
   "id": "75033da4",
   "metadata": {},
   "outputs": [],
   "source": [
    "rm -rf prueba"
   ]
  },
  {
   "cell_type": "code",
   "execution_count": 9,
   "id": "e2d2fbbd",
   "metadata": {},
   "outputs": [],
   "source": [
    "mkdir prueba"
   ]
  },
  {
   "cell_type": "code",
   "execution_count": 10,
   "id": "c84731bf",
   "metadata": {},
   "outputs": [
    {
     "name": "stdout",
     "output_type": "stream",
     "text": [
      "/root/notebooks/resultados-31-01/prueba\n"
     ]
    }
   ],
   "source": [
    "cd prueba\n"
   ]
  },
  {
   "cell_type": "code",
   "execution_count": 11,
   "id": "7fe1756b",
   "metadata": {},
   "outputs": [],
   "source": [
    "rm -rf *.ipynb"
   ]
  },
  {
   "cell_type": "code",
   "execution_count": 12,
   "id": "28792b12",
   "metadata": {},
   "outputs": [
    {
     "data": {
      "text/plain": [
       "'/root/notebooks/resultados-31-01/prueba'"
      ]
     },
     "execution_count": 12,
     "metadata": {},
     "output_type": "execute_result"
    }
   ],
   "source": [
    "pwd"
   ]
  },
  {
   "cell_type": "code",
   "execution_count": null,
   "id": "d87440bd",
   "metadata": {},
   "outputs": [],
   "source": []
  },
  {
   "cell_type": "code",
   "execution_count": 13,
   "id": "e28820b0",
   "metadata": {},
   "outputs": [],
   "source": [
    "cp -r /root/notebooks/exp_final_1.0.ipynb  /root/notebooks/resultados-31-01/prueba/ "
   ]
  },
  {
   "cell_type": "code",
   "execution_count": 14,
   "id": "48ff97ed",
   "metadata": {},
   "outputs": [],
   "source": [
    "cp -r /root/notebooks/exp_final_2.0.ipynb  /root/notebooks/resultados-31-01/prueba/ "
   ]
  },
  {
   "cell_type": "code",
   "execution_count": 15,
   "id": "c419b4d0",
   "metadata": {},
   "outputs": [],
   "source": [
    "cp -r /root/notebooks/exp_final_3.0.ipynb  /root/notebooks/resultados-31-01/prueba/  "
   ]
  },
  {
   "cell_type": "code",
   "execution_count": 16,
   "id": "c92b26da",
   "metadata": {},
   "outputs": [],
   "source": [
    "cp -r /root/notebooks/exp_final_4.0.ipynb  /root/notebooks/resultados-31-01/prueba/ "
   ]
  },
  {
   "cell_type": "code",
   "execution_count": 17,
   "id": "585dd52a",
   "metadata": {},
   "outputs": [],
   "source": [
    "cp -r /root/notebooks/exp_final_5.0.ipynb  /root/notebooks/resultados-31-01/prueba/ "
   ]
  },
  {
   "cell_type": "code",
   "execution_count": 18,
   "id": "461060de",
   "metadata": {},
   "outputs": [],
   "source": [
    "cp -r /root/notebooks/exp_final_6.0.ipynb  /root/notebooks/resultados-31-01/prueba/ "
   ]
  },
  {
   "cell_type": "code",
   "execution_count": 19,
   "id": "4fe0688e",
   "metadata": {},
   "outputs": [],
   "source": [
    "cp -r /root/notebooks/exp_final_7.0.ipynb  /root/notebooks/resultados-31-01/prueba/ "
   ]
  },
  {
   "cell_type": "code",
   "execution_count": 20,
   "id": "98561cd2",
   "metadata": {},
   "outputs": [],
   "source": [
    "cp -r /root/notebooks/exp_final_8.0.ipynb  /root/notebooks/resultados-31-01/prueba"
   ]
  },
  {
   "cell_type": "code",
   "execution_count": 21,
   "id": "3c3157f0",
   "metadata": {},
   "outputs": [],
   "source": [
    "cp -r /root/notebooks/exp_final_9.0.ipynb  /root/notebooks/resultados-31-01/prueba"
   ]
  },
  {
   "cell_type": "code",
   "execution_count": 22,
   "id": "586269e4",
   "metadata": {},
   "outputs": [],
   "source": [
    "cp -r /root/notebooks/exp_final_10.0.ipynb  /root/notebooks/resultados-31-01/prueba"
   ]
  },
  {
   "cell_type": "code",
   "execution_count": 23,
   "id": "8d95b829",
   "metadata": {},
   "outputs": [],
   "source": [
    "cp -r /root/notebooks/Resultados_final.2.0.ipynb  /root/notebooks/resultados-31-01/prueba"
   ]
  },
  {
   "cell_type": "code",
   "execution_count": 24,
   "id": "61a9ad06",
   "metadata": {},
   "outputs": [],
   "source": [
    "cp -r /root/notebooks/guardar-modelos-ejecutados.ipynb  /root/notebooks/resultados-31-01/prueba"
   ]
  },
  {
   "cell_type": "code",
   "execution_count": 25,
   "id": "f5fc325c",
   "metadata": {},
   "outputs": [],
   "source": [
    "cp -r /root/notebooks/Caso_de_perder_data.ipynb  /root/notebooks/resultados-31-01/prueba"
   ]
  },
  {
   "cell_type": "code",
   "execution_count": 26,
   "id": "e78b0b76",
   "metadata": {},
   "outputs": [],
   "source": [
    "#cp -r /root/notebooks/exp-7.ipynb  /root/notebooks/result/prueba "
   ]
  },
  {
   "cell_type": "code",
   "execution_count": 27,
   "id": "d076db0c",
   "metadata": {},
   "outputs": [],
   "source": [
    "#cp -r /root/notebooks/exp-8.ipynb  /root/notebooks/result/prueba "
   ]
  },
  {
   "cell_type": "code",
   "execution_count": 28,
   "id": "b725808e",
   "metadata": {},
   "outputs": [],
   "source": [
    "#cp -r /root/notebooks/exp-9.ipynb  /root/notebooks/result/prueba "
   ]
  },
  {
   "cell_type": "code",
   "execution_count": 29,
   "id": "72d562b2",
   "metadata": {},
   "outputs": [],
   "source": [
    "#cp -r /root/notebooks/exp-10.ipynb  /root/notebooks/result/prueba "
   ]
  },
  {
   "cell_type": "code",
   "execution_count": null,
   "id": "5f4a4e4b",
   "metadata": {},
   "outputs": [],
   "source": []
  },
  {
   "cell_type": "code",
   "execution_count": 30,
   "id": "cbdaa732",
   "metadata": {},
   "outputs": [
    {
     "name": "stdout",
     "output_type": "stream",
     "text": [
      "Caso_de_perder_data.ipynb  exp_final_6.0.ipynb\r\n",
      "exp_final_10.0.ipynb       exp_final_7.0.ipynb\r\n",
      "exp_final_1.0.ipynb        exp_final_8.0.ipynb\r\n",
      "exp_final_2.0.ipynb        exp_final_9.0.ipynb\r\n",
      "exp_final_3.0.ipynb        guardar-modelos-ejecutados.ipynb\r\n",
      "exp_final_4.0.ipynb        Resultados_final.2.0.ipynb\r\n",
      "exp_final_5.0.ipynb\r\n"
     ]
    }
   ],
   "source": [
    "ls"
   ]
  },
  {
   "cell_type": "code",
   "execution_count": 31,
   "id": "90b40cf9",
   "metadata": {},
   "outputs": [],
   "source": [
    "!git add ."
   ]
  },
  {
   "cell_type": "code",
   "execution_count": 32,
   "id": "d113eac5",
   "metadata": {},
   "outputs": [],
   "source": [
    "!git config user.email \"rodrigo.montenegro@alumnos.uv.cl\"\n",
    "\n",
    "!git config user.name \"Rodrigomontenegrofarias\""
   ]
  },
  {
   "cell_type": "markdown",
   "id": "fb790f92",
   "metadata": {},
   "source": [
    "##### "
   ]
  },
  {
   "cell_type": "code",
   "execution_count": 33,
   "id": "cdf6966f",
   "metadata": {},
   "outputs": [
    {
     "name": "stdout",
     "output_type": "stream",
     "text": [
      "[main 2f85f08] commit message\n",
      " 2 files changed, 7715 insertions(+), 7645 deletions(-)\n",
      " rewrite prueba/Resultados_final.2.0.ipynb (71%)\n"
     ]
    }
   ],
   "source": [
    "!git commit -m 'commit message'  # commit in Colab"
   ]
  },
  {
   "cell_type": "code",
   "execution_count": 34,
   "id": "ea14c70c",
   "metadata": {},
   "outputs": [
    {
     "name": "stdout",
     "output_type": "stream",
     "text": [
      "Counting objects: 5, done.\n",
      "Compressing objects: 100% (5/5), done.\n",
      "Writing objects: 100% (5/5), 1.14 MiB | 6.22 MiB/s, done.\n",
      "Total 5 (delta 3), reused 0 (delta 0)\n",
      "remote: Resolving deltas: 100% (3/3), completed with 3 local objects.\u001b[K\n",
      "To github.com:Rodrigomontenegrofarias/resultados-31-01.git\n",
      "   5487230..2f85f08  main -> main\n"
     ]
    }
   ],
   "source": [
    "!git push origin main       # push to github"
   ]
  },
  {
   "cell_type": "code",
   "execution_count": null,
   "id": "ce8724e8",
   "metadata": {},
   "outputs": [],
   "source": []
  },
  {
   "cell_type": "code",
   "execution_count": null,
   "id": "abc9f3bb",
   "metadata": {},
   "outputs": [],
   "source": []
  },
  {
   "cell_type": "code",
   "execution_count": null,
   "id": "47623b46",
   "metadata": {},
   "outputs": [],
   "source": []
  },
  {
   "cell_type": "code",
   "execution_count": null,
   "id": "708d7ab8",
   "metadata": {},
   "outputs": [],
   "source": []
  }
 ],
 "metadata": {
  "kernelspec": {
   "display_name": "Python 3",
   "language": "python",
   "name": "python3"
  },
  "language_info": {
   "codemirror_mode": {
    "name": "ipython",
    "version": 3
   },
   "file_extension": ".py",
   "mimetype": "text/x-python",
   "name": "python",
   "nbconvert_exporter": "python",
   "pygments_lexer": "ipython3",
   "version": "3.6.9"
  }
 },
 "nbformat": 4,
 "nbformat_minor": 5
}
