{
 "cells": [
  {
   "cell_type": "code",
   "execution_count": 1,
   "id": "61e28d9d",
   "metadata": {},
   "outputs": [
    {
     "name": "stdout",
     "output_type": "stream",
     "text": [
      "/root/notebooks\n"
     ]
    }
   ],
   "source": [
    "cd /root/notebooks"
   ]
  },
  {
   "cell_type": "code",
   "execution_count": 2,
   "id": "ae623d2e",
   "metadata": {},
   "outputs": [],
   "source": [
    "\n",
    "rm -rf resultados-31-01/ "
   ]
  },
  {
   "cell_type": "code",
   "execution_count": 3,
   "id": "9a1b28cf",
   "metadata": {},
   "outputs": [
    {
     "name": "stdout",
     "output_type": "stream",
     "text": [
      "\u001b[0m\u001b[01;34mDATABASE-PRIVATE\u001b[0m/                 exp_final_4.0.ipynb\r\n",
      "Datos_Combarbala_2016-2017JM.csv  exp_final_5.0.ipynb\r\n",
      "datos.csv                         exp_final_6.0.ipynb\r\n",
      "datos-SSH-Keys.ipynb              \u001b[01;34mGif-Rocio-Combarbala\u001b[0m/\r\n",
      "exp_final_1.0.ipynb               guardar-modelos-ejecutados1.ipynb\r\n",
      "exp_final_2.0-Copy1.ipynb         guardar-modelos-ejecutados.ipynb\r\n",
      "exp_final_2.0.ipynb               requirements.txt\r\n",
      "exp_final_3.0.ipynb\r\n"
     ]
    }
   ],
   "source": [
    "ls\n"
   ]
  },
  {
   "cell_type": "code",
   "execution_count": 4,
   "id": "3f0323da",
   "metadata": {},
   "outputs": [
    {
     "data": {
      "text/plain": [
       "'/root/notebooks'"
      ]
     },
     "execution_count": 4,
     "metadata": {},
     "output_type": "execute_result"
    }
   ],
   "source": [
    "pwd\n"
   ]
  },
  {
   "cell_type": "code",
   "execution_count": 5,
   "id": "37afcfa4",
   "metadata": {},
   "outputs": [
    {
     "data": {
      "text/plain": [
       "'/root/notebooks'"
      ]
     },
     "execution_count": 5,
     "metadata": {},
     "output_type": "execute_result"
    }
   ],
   "source": [
    "pwd"
   ]
  },
  {
   "cell_type": "code",
   "execution_count": 6,
   "id": "38c03178",
   "metadata": {},
   "outputs": [
    {
     "name": "stdout",
     "output_type": "stream",
     "text": [
      "Cloning into 'resultados-31-01'...\n",
      "remote: Enumerating objects: 781, done.\u001b[K\n",
      "remote: Counting objects: 100% (200/200), done.\u001b[K\n",
      "remote: Compressing objects: 100% (115/115), done.\u001b[K\n",
      "remote: Total 781 (delta 135), reused 147 (delta 85), pack-reused 581\u001b[K\n",
      "Receiving objects: 100% (781/781), 123.39 MiB | 16.61 MiB/s, done.\n",
      "Resolving deltas: 100% (531/531), done.\n"
     ]
    }
   ],
   "source": [
    "!git clone git@github.com:Rodrigomontenegrofarias/resultados-31-01.git"
   ]
  },
  {
   "cell_type": "code",
   "execution_count": 7,
   "id": "1e74e882",
   "metadata": {},
   "outputs": [
    {
     "data": {
      "text/plain": [
       "'/root/notebooks'"
      ]
     },
     "execution_count": 7,
     "metadata": {},
     "output_type": "execute_result"
    }
   ],
   "source": [
    "pwd"
   ]
  },
  {
   "cell_type": "code",
   "execution_count": 8,
   "id": "aa77b151",
   "metadata": {},
   "outputs": [
    {
     "name": "stdout",
     "output_type": "stream",
     "text": [
      "/root/notebooks/resultados-31-01\n"
     ]
    }
   ],
   "source": [
    "cd resultados-31-01\n"
   ]
  },
  {
   "cell_type": "code",
   "execution_count": null,
   "id": "426a2844",
   "metadata": {},
   "outputs": [],
   "source": []
  },
  {
   "cell_type": "code",
   "execution_count": 9,
   "id": "c7524b50",
   "metadata": {},
   "outputs": [
    {
     "name": "stdout",
     "output_type": "stream",
     "text": [
      "\u001b[0m\u001b[01;34mprueba\u001b[0m/         Prueba2.0.csv  Prueba5.0.csv  Prueba8.0.csv  README.md\r\n",
      "Prueba10.0.csv  Prueba3.0.csv  Prueba6.0.csv  Prueba9.0.csv\r\n",
      "Prueba1.0.csv   Prueba4.0.csv  Prueba7.0.csv  prueba.csv\r\n"
     ]
    }
   ],
   "source": [
    "ls\n"
   ]
  },
  {
   "cell_type": "code",
   "execution_count": 10,
   "id": "fde8b325",
   "metadata": {},
   "outputs": [
    {
     "name": "stdout",
     "output_type": "stream",
     "text": [
      "/root/notebooks/resultados-31-01/prueba\n"
     ]
    }
   ],
   "source": [
    "cd prueba"
   ]
  },
  {
   "cell_type": "code",
   "execution_count": 11,
   "id": "6dd91b8c",
   "metadata": {},
   "outputs": [
    {
     "name": "stdout",
     "output_type": "stream",
     "text": [
      "/root/notebooks/resultados-31-01\n"
     ]
    }
   ],
   "source": [
    "cd .."
   ]
  },
  {
   "cell_type": "code",
   "execution_count": 12,
   "id": "28792b12",
   "metadata": {},
   "outputs": [
    {
     "data": {
      "text/plain": [
       "'/root/notebooks/resultados-31-01'"
      ]
     },
     "execution_count": 12,
     "metadata": {},
     "output_type": "execute_result"
    }
   ],
   "source": [
    "pwd"
   ]
  },
  {
   "cell_type": "code",
   "execution_count": 13,
   "id": "07a72288",
   "metadata": {},
   "outputs": [
    {
     "name": "stdout",
     "output_type": "stream",
     "text": [
      "mkdir: cannot create directory ‘/resultados’: File exists\r\n"
     ]
    }
   ],
   "source": [
    "mkdir /resultados"
   ]
  },
  {
   "cell_type": "code",
   "execution_count": 14,
   "id": "d87440bd",
   "metadata": {},
   "outputs": [
    {
     "name": "stdout",
     "output_type": "stream",
     "text": [
      "total 76\r\n",
      "drwxr-xr-x 4 root root  4096 Aug 11 21:34 \u001b[0m\u001b[01;34m.\u001b[0m/\r\n",
      "drwxr-xr-x 1 root root  4096 Aug 11 21:33 \u001b[01;34m..\u001b[0m/\r\n",
      "drwxr-xr-x 8 root root  4096 Aug 11 21:34 \u001b[01;34m.git\u001b[0m/\r\n",
      "drwxr-xr-x 3 root root  4096 Aug 11 21:34 \u001b[01;34mprueba\u001b[0m/\r\n",
      "-rw-r--r-- 1 root root  2023 Aug 11 21:34 Prueba10.0.csv\r\n",
      "-rw-r--r-- 1 root root  2020 Aug 11 21:34 Prueba1.0.csv\r\n",
      "-rw-r--r-- 1 root root  2018 Aug 11 21:34 Prueba2.0.csv\r\n",
      "-rw-r--r-- 1 root root  2016 Aug 11 21:34 Prueba3.0.csv\r\n",
      "-rw-r--r-- 1 root root  2017 Aug 11 21:34 Prueba4.0.csv\r\n",
      "-rw-r--r-- 1 root root  2023 Aug 11 21:34 Prueba5.0.csv\r\n",
      "-rw-r--r-- 1 root root  2027 Aug 11 21:34 Prueba6.0.csv\r\n",
      "-rw-r--r-- 1 root root  2019 Aug 11 21:34 Prueba7.0.csv\r\n",
      "-rw-r--r-- 1 root root  2020 Aug 11 21:34 Prueba8.0.csv\r\n",
      "-rw-r--r-- 1 root root  2025 Aug 11 21:34 Prueba9.0.csv\r\n",
      "-rw-r--r-- 1 root root 10684 Aug 11 21:34 prueba.csv\r\n",
      "-rw-r--r-- 1 root root    19 Aug 11 21:34 README.md\r\n"
     ]
    }
   ],
   "source": [
    "ls -la"
   ]
  },
  {
   "cell_type": "code",
   "execution_count": null,
   "id": "57481f15",
   "metadata": {},
   "outputs": [],
   "source": []
  },
  {
   "cell_type": "code",
   "execution_count": 15,
   "id": "e28820b0",
   "metadata": {},
   "outputs": [],
   "source": [
    "cp -r /root/notebooks/exp_final_1.0.ipynb  /root/notebooks/resultados-31-01/prueba/"
   ]
  },
  {
   "cell_type": "code",
   "execution_count": 16,
   "id": "a347bd0a",
   "metadata": {},
   "outputs": [],
   "source": [
    "cp -r /root/notebooks/exp_final_2.0.ipynb  /root/notebooks/resultados-31-01/prueba/"
   ]
  },
  {
   "cell_type": "code",
   "execution_count": 17,
   "id": "5e1944da",
   "metadata": {},
   "outputs": [],
   "source": [
    "cp -r /root/notebooks/exp_final_3.0.ipynb  /root/notebooks/resultados-31-01/prueba/"
   ]
  },
  {
   "cell_type": "code",
   "execution_count": 18,
   "id": "fe991e77",
   "metadata": {},
   "outputs": [],
   "source": [
    "cp -r /root/notebooks/exp_final_4.0.ipynb  /root/notebooks/resultados-31-01/prueba/"
   ]
  },
  {
   "cell_type": "code",
   "execution_count": 19,
   "id": "1d303997",
   "metadata": {},
   "outputs": [],
   "source": [
    "cp -r /root/notebooks/exp_final_5.0.ipynb  /root/notebooks/resultados-31-01/prueba/"
   ]
  },
  {
   "cell_type": "code",
   "execution_count": 20,
   "id": "847cb941",
   "metadata": {},
   "outputs": [],
   "source": [
    "cp -r /root/notebooks/exp_final_6.0.ipynb  /root/notebooks/resultados-31-01/prueba/"
   ]
  },
  {
   "cell_type": "code",
   "execution_count": null,
   "id": "e884d6d8",
   "metadata": {},
   "outputs": [],
   "source": [
    "cp -r /root/notebooks/exp_final_7.0.ipynb  /root/notebooks/resultados-31-01/prueba/"
   ]
  },
  {
   "cell_type": "code",
   "execution_count": null,
   "id": "1b20b758",
   "metadata": {},
   "outputs": [],
   "source": []
  },
  {
   "cell_type": "code",
   "execution_count": null,
   "id": "984abf45",
   "metadata": {},
   "outputs": [],
   "source": []
  },
  {
   "cell_type": "code",
   "execution_count": null,
   "id": "8001ef6f",
   "metadata": {},
   "outputs": [],
   "source": []
  },
  {
   "cell_type": "code",
   "execution_count": null,
   "id": "b999d158",
   "metadata": {},
   "outputs": [],
   "source": []
  },
  {
   "cell_type": "code",
   "execution_count": 21,
   "id": "a476a2a5",
   "metadata": {},
   "outputs": [],
   "source": [
    "cp -r /root/notebooks/datos-SSH-Keys.ipynb /root/notebooks/resultados-31-01/prueba/"
   ]
  },
  {
   "cell_type": "code",
   "execution_count": 22,
   "id": "7e064fce",
   "metadata": {},
   "outputs": [],
   "source": [
    "cp -r /root/notebooks/guardar-modelos-ejecutados.ipynb /root/notebooks/resultados-31-01/prueba/"
   ]
  },
  {
   "cell_type": "code",
   "execution_count": null,
   "id": "09fc3520",
   "metadata": {},
   "outputs": [],
   "source": []
  },
  {
   "cell_type": "code",
   "execution_count": 23,
   "id": "e78b0b76",
   "metadata": {},
   "outputs": [],
   "source": [
    "#cp -r /root/notebooks/exp-7.ipynb  /root/notebooks/result/prueba "
   ]
  },
  {
   "cell_type": "code",
   "execution_count": null,
   "id": "5933dd9c",
   "metadata": {},
   "outputs": [],
   "source": []
  },
  {
   "cell_type": "code",
   "execution_count": null,
   "id": "a55b1b32",
   "metadata": {},
   "outputs": [],
   "source": []
  },
  {
   "cell_type": "code",
   "execution_count": null,
   "id": "97a8cc12",
   "metadata": {},
   "outputs": [],
   "source": []
  },
  {
   "cell_type": "code",
   "execution_count": null,
   "id": "dc2faca8",
   "metadata": {},
   "outputs": [],
   "source": []
  },
  {
   "cell_type": "code",
   "execution_count": null,
   "id": "91664b85",
   "metadata": {},
   "outputs": [],
   "source": []
  },
  {
   "cell_type": "code",
   "execution_count": null,
   "id": "cb627d85",
   "metadata": {},
   "outputs": [],
   "source": []
  },
  {
   "cell_type": "code",
   "execution_count": 24,
   "id": "d076db0c",
   "metadata": {},
   "outputs": [],
   "source": [
    "#cp -r /root/notebooks/exp-8.ipynb  /root/notebooks/result/prueba "
   ]
  },
  {
   "cell_type": "code",
   "execution_count": 25,
   "id": "b725808e",
   "metadata": {},
   "outputs": [],
   "source": [
    "#cp -r /root/notebooks/exp-9.ipynb  /root/notebooks/result/prueba "
   ]
  },
  {
   "cell_type": "code",
   "execution_count": 26,
   "id": "72d562b2",
   "metadata": {},
   "outputs": [],
   "source": [
    "#cp -r /root/notebooks/exp-10.ipynb  /root/notebooks/result/prueba "
   ]
  },
  {
   "cell_type": "code",
   "execution_count": 27,
   "id": "cbdaa732",
   "metadata": {},
   "outputs": [
    {
     "name": "stdout",
     "output_type": "stream",
     "text": [
      "\u001b[0m\u001b[01;34mprueba\u001b[0m/         Prueba2.0.csv  Prueba5.0.csv  Prueba8.0.csv  README.md\r\n",
      "Prueba10.0.csv  Prueba3.0.csv  Prueba6.0.csv  Prueba9.0.csv\r\n",
      "Prueba1.0.csv   Prueba4.0.csv  Prueba7.0.csv  prueba.csv\r\n"
     ]
    }
   ],
   "source": [
    "ls"
   ]
  },
  {
   "cell_type": "code",
   "execution_count": 28,
   "id": "90b40cf9",
   "metadata": {},
   "outputs": [],
   "source": [
    "!git add ."
   ]
  },
  {
   "cell_type": "code",
   "execution_count": 29,
   "id": "d113eac5",
   "metadata": {},
   "outputs": [],
   "source": [
    "!git config user.email \"rodrigo.montenegro@alumnos.uv.cl\"\n",
    "\n",
    "!git config user.name \"Rodrigomontenegrofarias\""
   ]
  },
  {
   "cell_type": "markdown",
   "id": "fb790f92",
   "metadata": {},
   "source": [
    "##### "
   ]
  },
  {
   "cell_type": "code",
   "execution_count": 30,
   "id": "cdf6966f",
   "metadata": {},
   "outputs": [
    {
     "name": "stdout",
     "output_type": "stream",
     "text": [
      "[main ca12487] commit message\r\n",
      " 1 file changed, 85118 insertions(+)\r\n",
      " create mode 100644 prueba/exp_final_6.0.ipynb\r\n"
     ]
    }
   ],
   "source": [
    "!git commit -m 'commit message'  # commit in Colab"
   ]
  },
  {
   "cell_type": "code",
   "execution_count": 31,
   "id": "ea14c70c",
   "metadata": {},
   "outputs": [
    {
     "name": "stdout",
     "output_type": "stream",
     "text": [
      "Counting objects: 4, done.\n",
      "Delta compression using up to 2 threads.\n",
      "Compressing objects: 100% (4/4), done.\n",
      "Writing objects: 100% (4/4), 3.48 MiB | 6.61 MiB/s, done.\n",
      "Total 4 (delta 2), reused 0 (delta 0)\n",
      "remote: Resolving deltas: 100% (2/2), completed with 2 local objects.\u001b[K\n",
      "To github.com:Rodrigomontenegrofarias/resultados-31-01.git\n",
      "   7129baf..ca12487  main -> main\n"
     ]
    }
   ],
   "source": [
    "!git push origin main       # push to github"
   ]
  },
  {
   "cell_type": "code",
   "execution_count": null,
   "id": "ce8724e8",
   "metadata": {},
   "outputs": [],
   "source": []
  },
  {
   "cell_type": "code",
   "execution_count": null,
   "id": "abc9f3bb",
   "metadata": {},
   "outputs": [],
   "source": []
  },
  {
   "cell_type": "code",
   "execution_count": null,
   "id": "47623b46",
   "metadata": {},
   "outputs": [],
   "source": []
  },
  {
   "cell_type": "code",
   "execution_count": null,
   "id": "708d7ab8",
   "metadata": {},
   "outputs": [],
   "source": []
  },
  {
   "cell_type": "code",
   "execution_count": null,
   "id": "956fad2d",
   "metadata": {},
   "outputs": [],
   "source": []
  }
 ],
 "metadata": {
  "kernelspec": {
   "display_name": "Python 3",
   "language": "python",
   "name": "python3"
  },
  "language_info": {
   "codemirror_mode": {
    "name": "ipython",
    "version": 3
   },
   "file_extension": ".py",
   "mimetype": "text/x-python",
   "name": "python",
   "nbconvert_exporter": "python",
   "pygments_lexer": "ipython3",
   "version": "3.6.9"
  }
 },
 "nbformat": 4,
 "nbformat_minor": 5
}
