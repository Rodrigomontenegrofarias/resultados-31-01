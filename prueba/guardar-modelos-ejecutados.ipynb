{
 "cells": [
  {
   "cell_type": "code",
   "execution_count": null,
   "id": "61e28d9d",
   "metadata": {},
   "outputs": [],
   "source": [
    "cd /root/notebooks"
   ]
  },
  {
   "cell_type": "code",
   "execution_count": null,
   "id": "ae623d2e",
   "metadata": {},
   "outputs": [],
   "source": [
    "\n",
    "rm -rf resultados-31-01/ "
   ]
  },
  {
   "cell_type": "code",
   "execution_count": null,
   "id": "9a1b28cf",
   "metadata": {},
   "outputs": [],
   "source": [
    "ls\n"
   ]
  },
  {
   "cell_type": "code",
   "execution_count": null,
   "id": "3f0323da",
   "metadata": {},
   "outputs": [],
   "source": [
    "pwd\n"
   ]
  },
  {
   "cell_type": "code",
   "execution_count": null,
   "id": "37afcfa4",
   "metadata": {},
   "outputs": [],
   "source": [
    "pwd"
   ]
  },
  {
   "cell_type": "code",
   "execution_count": null,
   "id": "38c03178",
   "metadata": {},
   "outputs": [],
   "source": [
    "!git clone git@github.com:Rodrigomontenegrofarias/resultados-31-01.git"
   ]
  },
  {
   "cell_type": "code",
   "execution_count": null,
   "id": "1e74e882",
   "metadata": {},
   "outputs": [],
   "source": [
    "pwd"
   ]
  },
  {
   "cell_type": "code",
   "execution_count": null,
   "id": "aa77b151",
   "metadata": {},
   "outputs": [],
   "source": [
    "cd resultados-31-01\n"
   ]
  },
  {
   "cell_type": "code",
   "execution_count": null,
   "id": "426a2844",
   "metadata": {},
   "outputs": [],
   "source": []
  },
  {
   "cell_type": "code",
   "execution_count": null,
   "id": "c7524b50",
   "metadata": {},
   "outputs": [],
   "source": [
    "ls\n"
   ]
  },
  {
   "cell_type": "code",
   "execution_count": null,
   "id": "fde8b325",
   "metadata": {},
   "outputs": [],
   "source": [
    "cd prueba"
   ]
  },
  {
   "cell_type": "code",
   "execution_count": null,
   "id": "6dd91b8c",
   "metadata": {},
   "outputs": [],
   "source": [
    "cd .."
   ]
  },
  {
   "cell_type": "code",
   "execution_count": null,
   "id": "28792b12",
   "metadata": {},
   "outputs": [],
   "source": [
    "pwd"
   ]
  },
  {
   "cell_type": "code",
   "execution_count": null,
   "id": "07a72288",
   "metadata": {},
   "outputs": [],
   "source": [
    "mkdir /resultados"
   ]
  },
  {
   "cell_type": "code",
   "execution_count": null,
   "id": "d87440bd",
   "metadata": {},
   "outputs": [],
   "source": [
    "ls -la"
   ]
  },
  {
   "cell_type": "code",
   "execution_count": null,
   "id": "57481f15",
   "metadata": {},
   "outputs": [],
   "source": []
  },
  {
   "cell_type": "code",
   "execution_count": null,
   "id": "e28820b0",
   "metadata": {},
   "outputs": [],
   "source": [
    "cp -r /root/notebooks/exp_final_1.0.ipynb  /root/notebooks/resultados-31-01/prueba/"
   ]
  },
  {
   "cell_type": "code",
   "execution_count": null,
   "id": "a347bd0a",
   "metadata": {},
   "outputs": [],
   "source": [
    "cp -r /root/notebooks/exp_final_2.0.ipynb  /root/notebooks/resultados-31-01/prueba/"
   ]
  },
  {
   "cell_type": "code",
   "execution_count": null,
   "id": "5e1944da",
   "metadata": {},
   "outputs": [],
   "source": [
    "cp -r /root/notebooks/exp_final_3.0.ipynb  /root/notebooks/resultados-31-01/prueba/"
   ]
  },
  {
   "cell_type": "code",
   "execution_count": null,
   "id": "fe991e77",
   "metadata": {},
   "outputs": [],
   "source": [
    "cp -r /root/notebooks/exp_final_4.0.ipynb  /root/notebooks/resultados-31-01/prueba/"
   ]
  },
  {
   "cell_type": "code",
   "execution_count": null,
   "id": "1d303997",
   "metadata": {},
   "outputs": [],
   "source": [
    "cp -r /root/notebooks/exp_final_5.0.ipynb  /root/notebooks/resultados-31-01/prueba/"
   ]
  },
  {
   "cell_type": "code",
   "execution_count": null,
   "id": "847cb941",
   "metadata": {},
   "outputs": [],
   "source": [
    "cp -r /root/notebooks/exp_final_6.0.ipynb  /root/notebooks/resultados-31-01/prueba/"
   ]
  },
  {
   "cell_type": "code",
   "execution_count": null,
   "id": "af526080",
   "metadata": {},
   "outputs": [],
   "source": [
    "cp -r /root/notebooks/exp_final_7.0.ipynb  /root/notebooks/resultados-31-01/prueba/"
   ]
  },
  {
   "cell_type": "code",
   "execution_count": null,
   "id": "aa16ab29",
   "metadata": {},
   "outputs": [],
   "source": [
    "cp -r /root/notebooks/exp_final_8.0.ipynb  /root/notebooks/resultados-31-01/prueba/"
   ]
  },
  {
   "cell_type": "code",
   "execution_count": null,
   "id": "1e658259",
   "metadata": {},
   "outputs": [],
   "source": [
    "cp -r /root/notebooks/exp_final_9.0.ipynb  /root/notebooks/resultados-31-01/prueba/"
   ]
  },
  {
   "cell_type": "code",
   "execution_count": null,
   "id": "8cee795c",
   "metadata": {},
   "outputs": [],
   "source": [
    "cp -r /root/notebooks/exp_final_10.0.ipynb  /root/notebooks/resultados-31-01/prueba/"
   ]
  },
  {
   "cell_type": "code",
   "execution_count": null,
   "id": "4a53a7e5",
   "metadata": {},
   "outputs": [],
   "source": [
    "pwd"
   ]
  },
  {
   "cell_type": "code",
   "execution_count": null,
   "id": "09fc3520",
   "metadata": {},
   "outputs": [],
   "source": [
    "cp -r /root/notebooks/Resultados_final.2.0.ipynb  /root/notebooks/resultados-31-01/prueba/"
   ]
  },
  {
   "cell_type": "code",
   "execution_count": null,
   "id": "e81acfd8",
   "metadata": {},
   "outputs": [],
   "source": [
    "cp -r /root/notebooks/Caso_de_perder_data.ipynb  /root/notebooks/resultados-31-01/prueba/"
   ]
  },
  {
   "cell_type": "code",
   "execution_count": null,
   "id": "6c9f6e0d",
   "metadata": {},
   "outputs": [],
   "source": [
    "cp -r /root/notebooks/guardar-modelos-ejecutados.ipynb  /root/notebooks/resultados-31-01/prueba/"
   ]
  },
  {
   "cell_type": "code",
   "execution_count": null,
   "id": "e78b0b76",
   "metadata": {},
   "outputs": [],
   "source": [
    "#cp -r /root/notebooks/exp-7.ipynb  /root/notebooks/result/prueba "
   ]
  },
  {
   "cell_type": "code",
   "execution_count": null,
   "id": "5933dd9c",
   "metadata": {},
   "outputs": [],
   "source": []
  },
  {
   "cell_type": "code",
   "execution_count": null,
   "id": "a55b1b32",
   "metadata": {},
   "outputs": [],
   "source": []
  },
  {
   "cell_type": "code",
   "execution_count": null,
   "id": "97a8cc12",
   "metadata": {},
   "outputs": [],
   "source": []
  },
  {
   "cell_type": "code",
   "execution_count": null,
   "id": "dc2faca8",
   "metadata": {},
   "outputs": [],
   "source": []
  },
  {
   "cell_type": "code",
   "execution_count": null,
   "id": "91664b85",
   "metadata": {},
   "outputs": [],
   "source": []
  },
  {
   "cell_type": "code",
   "execution_count": null,
   "id": "cb627d85",
   "metadata": {},
   "outputs": [],
   "source": []
  },
  {
   "cell_type": "code",
   "execution_count": null,
   "id": "d076db0c",
   "metadata": {},
   "outputs": [],
   "source": [
    "#cp -r /root/notebooks/exp-8.ipynb  /root/notebooks/result/prueba "
   ]
  },
  {
   "cell_type": "code",
   "execution_count": null,
   "id": "b725808e",
   "metadata": {},
   "outputs": [],
   "source": [
    "#cp -r /root/notebooks/exp-9.ipynb  /root/notebooks/result/prueba "
   ]
  },
  {
   "cell_type": "code",
   "execution_count": null,
   "id": "72d562b2",
   "metadata": {},
   "outputs": [],
   "source": [
    "#cp -r /root/notebooks/exp-10.ipynb  /root/notebooks/result/prueba "
   ]
  },
  {
   "cell_type": "code",
   "execution_count": null,
   "id": "cbdaa732",
   "metadata": {},
   "outputs": [],
   "source": [
    "ls"
   ]
  },
  {
   "cell_type": "code",
   "execution_count": null,
   "id": "90b40cf9",
   "metadata": {},
   "outputs": [],
   "source": [
    "!git add ."
   ]
  },
  {
   "cell_type": "code",
   "execution_count": null,
   "id": "d113eac5",
   "metadata": {},
   "outputs": [],
   "source": [
    "!git config user.email \"rodrigo.montenegro@alumnos.uv.cl\"\n",
    "\n",
    "!git config user.name \"Rodrigomontenegrofarias\""
   ]
  },
  {
   "cell_type": "markdown",
   "id": "fb790f92",
   "metadata": {},
   "source": [
    "##### "
   ]
  },
  {
   "cell_type": "code",
   "execution_count": null,
   "id": "cdf6966f",
   "metadata": {},
   "outputs": [],
   "source": [
    "!git commit -m 'commit message'  # commit in Colab"
   ]
  },
  {
   "cell_type": "code",
   "execution_count": null,
   "id": "ea14c70c",
   "metadata": {},
   "outputs": [],
   "source": [
    "!git push origin main       # push to github"
   ]
  },
  {
   "cell_type": "code",
   "execution_count": null,
   "id": "ce8724e8",
   "metadata": {},
   "outputs": [],
   "source": []
  },
  {
   "cell_type": "code",
   "execution_count": null,
   "id": "abc9f3bb",
   "metadata": {},
   "outputs": [],
   "source": []
  },
  {
   "cell_type": "code",
   "execution_count": null,
   "id": "47623b46",
   "metadata": {},
   "outputs": [],
   "source": []
  },
  {
   "cell_type": "code",
   "execution_count": null,
   "id": "708d7ab8",
   "metadata": {},
   "outputs": [],
   "source": []
  },
  {
   "cell_type": "code",
   "execution_count": null,
   "id": "956fad2d",
   "metadata": {},
   "outputs": [],
   "source": []
  }
 ],
 "metadata": {
  "kernelspec": {
   "display_name": "Python 3",
   "language": "python",
   "name": "python3"
  },
  "language_info": {
   "codemirror_mode": {
    "name": "ipython",
    "version": 3
   },
   "file_extension": ".py",
   "mimetype": "text/x-python",
   "name": "python",
   "nbconvert_exporter": "python",
   "pygments_lexer": "ipython3",
   "version": "3.6.9"
  }
 },
 "nbformat": 4,
 "nbformat_minor": 5
}
